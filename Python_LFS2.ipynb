{
  "nbformat": 4,
  "nbformat_minor": 0,
  "metadata": {
    "colab": {
      "provenance": [],
      "authorship_tag": "ABX9TyMXYZExJEb4fJbCetKUVJp4",
      "include_colab_link": true
    },
    "kernelspec": {
      "name": "python3",
      "display_name": "Python 3"
    },
    "language_info": {
      "name": "python"
    }
  },
  "cells": [
    {
      "cell_type": "markdown",
      "metadata": {
        "id": "view-in-github",
        "colab_type": "text"
      },
      "source": [
        "<a href=\"https://colab.research.google.com/github/velkir/DataCourseCOROCHKA/blob/main/Python_LFS2.ipynb\" target=\"_parent\"><img src=\"https://colab.research.google.com/assets/colab-badge.svg\" alt=\"Open In Colab\"/></a>"
      ]
    },
    {
      "cell_type": "code",
      "execution_count": null,
      "metadata": {
        "colab": {
          "base_uri": "https://localhost:8080/"
        },
        "id": "xL6RrA6U6cXz",
        "outputId": "be9aeaff-d4b3-43f8-85fe-5b7c1059d5cb"
      },
      "outputs": [
        {
          "output_type": "stream",
          "name": "stdout",
          "text": [
            "101\n",
            "-1111\n",
            "-1000011110\n",
            "1111011010100\n"
          ]
        }
      ],
      "source": [
        "#черновик (пытался сначала полноценную функцию написать универсальную)\n",
        "#11001\n",
        "#['1', '1', '0', ]\n",
        "#1*2^4+1*2^3+0*2^2+0*2^1+1*2^0=16+8+1=25\n",
        "\n",
        "#13\n",
        "#13/2=6 + 1 => 6/2=3 => 3/2=1 + 1 => 101\n",
        "\n",
        "\n",
        "#Практика\n",
        "#1\n",
        "def base_to_bin(number):\n",
        "  if number >= 0:\n",
        "    print(bin(number)[2:])\n",
        "  else:\n",
        "    base = bin(number)\n",
        "    print(base[0]+base[3:])\n",
        "\n",
        "base_to_bin(5)\n",
        "base_to_bin(-15)\n",
        "base_to_bin(-542)\n",
        "base_to_bin(7892)\n",
        "\n",
        "\n"
      ]
    },
    {
      "cell_type": "code",
      "source": [
        "#2\n",
        "def bin_to_decimal(bin_number):\n",
        "  bin_number_listed = [*str(bin_number)]\n",
        "  final_number = 0\n",
        "  length = len(bin_number_listed)\n",
        "\n",
        "  for i in range(length):\n",
        "    final_number += int(bin_number_listed[i])*2**(length-i-1)\n",
        "\n",
        "\n",
        "  print(final_number)\n",
        "\n",
        "bin_to_decimal(1010)\n",
        "bin_to_decimal(101111101)\n",
        "bin_to_decimal(101001010100101)\n"
      ],
      "metadata": {
        "colab": {
          "base_uri": "https://localhost:8080/"
        },
        "id": "M7JkJEnXPWeM",
        "outputId": "80965264-e2a0-42ed-d86e-991c91774c21"
      },
      "execution_count": null,
      "outputs": [
        {
          "output_type": "stream",
          "name": "stdout",
          "text": [
            "10\n",
            "381\n",
            "21157\n"
          ]
        }
      ]
    },
    {
      "cell_type": "code",
      "source": [
        "#3\n",
        "# 101111101 381\n",
        "#      1010 10\n",
        "# 110000111 391\n",
        "\n",
        "# 101001010100101 21157\n",
        "#       101111101 381\n",
        "# 101010000100010 21538"
      ],
      "metadata": {
        "id": "8fZdg7igRVQu"
      },
      "execution_count": null,
      "outputs": []
    }
  ]
}